{
 "cells": [
  {
   "cell_type": "code",
   "execution_count": null,
   "id": "0ccaf969-c9e0-4fc0-ad4a-fb5f97bc6932",
   "metadata": {},
   "outputs": [],
   "source": [
    "class linked_list:\n",
    "    def __init__(self,data,next=None):\n",
    "        self.data=data\n",
    "        self.next=next\n",
    "node1=linked_list(10)\n",
    "node2=linked_list(20)\n",
    "node3=linked_list(30)\n",
    "node4=linked_list(40)# dabba ban gaya\n",
    "node5=linked_list(50)\n",
    "node6=linked_list(60)\n",
    "node1.next=node2\n",
    "node2.next=node3 #lnkage kr diya\n",
    "node3.next=node4\n",
    "node4.next=node5\n",
    "node5.next=node6\n",
    "current =node1\n",
    "length=0\n",
    "index=3\n",
    "while(current is not None):\n",
    "    if(index==length):\n",
    "        k=(current.data)\n",
    "        continue\n",
    "    print(current.data,end=\"->\")\n",
    "    length+=1\n",
    "    current=current.next\n",
    "   "
   ]
  },
  {
   "cell_type": "code",
   "execution_count": null,
   "id": "cb4d9cb8-f162-498e-80dd-51fb76c6de6a",
   "metadata": {},
   "outputs": [],
   "source": [
    "print(\"d\")"
   ]
  },
  {
   "cell_type": "code",
   "execution_count": null,
   "id": "bb413d9c-8092-4491-b164-1ed2f7783b72",
   "metadata": {},
   "outputs": [],
   "source": []
  }
 ],
 "metadata": {
  "kernelspec": {
   "display_name": "Python 3 (ipykernel)",
   "language": "python",
   "name": "python3"
  },
  "language_info": {
   "codemirror_mode": {
    "name": "ipython",
    "version": 3
   },
   "file_extension": ".py",
   "mimetype": "text/x-python",
   "name": "python",
   "nbconvert_exporter": "python",
   "pygments_lexer": "ipython3",
   "version": "3.10.8"
  }
 },
 "nbformat": 4,
 "nbformat_minor": 5
}
