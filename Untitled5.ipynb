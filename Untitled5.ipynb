{
 "cells": [
  {
   "cell_type": "code",
   "execution_count": 1,
   "id": "a5521c6b-0e3d-4c89-a4ff-f459d74ff4c8",
   "metadata": {},
   "outputs": [],
   "source": [
    "r=\"tizhifhj\"\n",
    "\n"
   ]
  },
  {
   "cell_type": "code",
   "execution_count": 2,
   "id": "09759b89-951e-42d4-9285-9c416aa73b85",
   "metadata": {},
   "outputs": [
    {
     "data": {
      "text/plain": [
       "'z'"
      ]
     },
     "execution_count": 2,
     "metadata": {},
     "output_type": "execute_result"
    }
   ],
   "source": [
    "r[2]"
   ]
  },
  {
   "cell_type": "code",
   "execution_count": 23,
   "id": "0512e7a9-1961-4a80-af8b-add53b501302",
   "metadata": {},
   "outputs": [
    {
     "data": {
      "text/plain": [
       "'thh'"
      ]
     },
     "execution_count": 23,
     "metadata": {},
     "output_type": "execute_result"
    }
   ],
   "source": [
    "r[0:8:3]"
   ]
  },
  {
   "cell_type": "code",
   "execution_count": 39,
   "id": "effafe73-e6e6-4ce9-8f7c-e4bfe0fbe494",
   "metadata": {},
   "outputs": [
    {
     "data": {
      "text/plain": [
       "'jfhi'"
      ]
     },
     "execution_count": 39,
     "metadata": {},
     "output_type": "execute_result"
    }
   ],
   "source": [
    "r[::-2]\n"
   ]
  },
  {
   "cell_type": "code",
   "execution_count": 40,
   "id": "04bf82e4-3418-4b8f-bf56-90e0a9853016",
   "metadata": {},
   "outputs": [],
   "source": [
    "r=\"rizwan_khan\""
   ]
  },
  {
   "cell_type": "code",
   "execution_count": 45,
   "id": "28972942-d641-4478-86ac-c3885a22780d",
   "metadata": {},
   "outputs": [
    {
     "ename": "TypeError",
     "evalue": "'str' object does not support item assignment",
     "output_type": "error",
     "traceback": [
      "\u001b[0;31m---------------------------------------------------------------------------\u001b[0m",
      "\u001b[0;31mTypeError\u001b[0m                                 Traceback (most recent call last)",
      "Cell \u001b[0;32mIn[45], line 1\u001b[0m\n\u001b[0;32m----> 1\u001b[0m \u001b[43mr\u001b[49m\u001b[43m[\u001b[49m\u001b[38;5;241;43m2\u001b[39;49m\u001b[43m]\u001b[49m\u001b[38;5;241m=\u001b[39m\u001b[38;5;124m\"\u001b[39m\u001b[38;5;124mk\u001b[39m\u001b[38;5;124m\"\u001b[39m\n",
      "\u001b[0;31mTypeError\u001b[0m: 'str' object does not support item assignment"
     ]
    }
   ],
   "source": [
    "r[2]=\"k\""
   ]
  },
  {
   "cell_type": "code",
   "execution_count": 46,
   "id": "33f5b638-0942-4077-af5f-7e0fe05beb4a",
   "metadata": {},
   "outputs": [],
   "source": [
    "r=\"rizwankhan\""
   ]
  },
  {
   "cell_type": "code",
   "execution_count": 50,
   "id": "9cf63df9-4b1c-461c-93dc-695601e646bf",
   "metadata": {},
   "outputs": [
    {
     "data": {
      "text/plain": [
       "'in'"
      ]
     },
     "execution_count": 50,
     "metadata": {},
     "output_type": "execute_result"
    }
   ],
   "source": [
    "r[1::8]"
   ]
  },
  {
   "cell_type": "code",
   "execution_count": 51,
   "id": "346da2a6-538a-43a6-aa16-a05d002a11ad",
   "metadata": {},
   "outputs": [],
   "source": [
    "r=\"rizwan khan american saloon i am riuzwan khan frm south australia\""
   ]
  },
  {
   "cell_type": "code",
   "execution_count": 1,
   "id": "9a4271ee-d734-4f3a-9857-c1e5e25b6072",
   "metadata": {},
   "outputs": [
    {
     "ename": "NameError",
     "evalue": "name 'r' is not defined",
     "output_type": "error",
     "traceback": [
      "\u001b[0;31m---------------------------------------------------------------------------\u001b[0m",
      "\u001b[0;31mNameError\u001b[0m                                 Traceback (most recent call last)",
      "Cell \u001b[0;32mIn[1], line 1\u001b[0m\n\u001b[0;32m----> 1\u001b[0m \u001b[38;5;124m\"\u001b[39m\u001b[38;5;124mkhan\u001b[39m\u001b[38;5;124m\"\u001b[39m \u001b[38;5;129;01min\u001b[39;00m \u001b[43mr\u001b[49m\n",
      "\u001b[0;31mNameError\u001b[0m: name 'r' is not defined"
     ]
    }
   ],
   "source": [
    "\"khan\" in r"
   ]
  },
  {
   "cell_type": "raw",
   "id": "b6df61c4-933d-47ea-9142-c19d1d8fc47f",
   "metadata": {},
   "source": [
    "r.split()"
   ]
  },
  {
   "cell_type": "code",
   "execution_count": 54,
   "id": "423e6bfa-b8bc-4d5d-9337-eb0320c0b83d",
   "metadata": {},
   "outputs": [],
   "source": [
    "r=\"khan america and south australia\""
   ]
  },
  {
   "cell_type": "code",
   "execution_count": 55,
   "id": "72a50f38-f9f2-426b-a61a-17086090da18",
   "metadata": {},
   "outputs": [
    {
     "data": {
      "text/plain": [
       "['khan', 'america', 'and', 'south', 'australia']"
      ]
     },
     "execution_count": 55,
     "metadata": {},
     "output_type": "execute_result"
    }
   ],
   "source": [
    "r.split()"
   ]
  },
  {
   "cell_type": "code",
   "execution_count": 56,
   "id": "9ada4d72-c28a-405d-9777-365179013354",
   "metadata": {},
   "outputs": [
    {
     "data": {
      "text/plain": [
       "0"
      ]
     },
     "execution_count": 56,
     "metadata": {},
     "output_type": "execute_result"
    }
   ],
   "source": [
    "r.index(\"khan\")"
   ]
  },
  {
   "cell_type": "code",
   "execution_count": 57,
   "id": "b0891897-582f-4abf-913c-65c6b1638f93",
   "metadata": {},
   "outputs": [],
   "source": [
    "r=\"rizwan khana kjhwrhkjfdshk khfkjhsd\""
   ]
  },
  {
   "cell_type": "code",
   "execution_count": 59,
   "id": "b44eb166-4d35-40ba-ba08-7d46769e0cd9",
   "metadata": {},
   "outputs": [
    {
     "data": {
      "text/plain": [
       "7"
      ]
     },
     "execution_count": 59,
     "metadata": {},
     "output_type": "execute_result"
    }
   ],
   "source": [
    "r.index(\"khana\")\n"
   ]
  },
  {
   "cell_type": "code",
   "execution_count": 60,
   "id": "1f0933c4-f349-43e5-aeb0-a8379f141390",
   "metadata": {},
   "outputs": [],
   "source": [
    "r=\"tikhuew ewrueh iwureiue oiure\""
   ]
  },
  {
   "cell_type": "code",
   "execution_count": 61,
   "id": "7766efbe-a6af-41dc-9365-ce483bed13ab",
   "metadata": {},
   "outputs": [
    {
     "data": {
      "text/plain": [
       "'tik'"
      ]
     },
     "execution_count": 61,
     "metadata": {},
     "output_type": "execute_result"
    }
   ],
   "source": [
    "r[0:3]"
   ]
  },
  {
   "cell_type": "code",
   "execution_count": 64,
   "id": "6b47a424-c0a0-47d2-b6b7-2a45ef6c3446",
   "metadata": {},
   "outputs": [
    {
     "data": {
      "text/plain": [
       "'tikhuew ewrueh iwureiue oiure'"
      ]
     },
     "execution_count": 64,
     "metadata": {},
     "output_type": "execute_result"
    }
   ],
   "source": [
    "r[0:1000:]"
   ]
  },
  {
   "cell_type": "code",
   "execution_count": 65,
   "id": "74b44c6c-d902-45b3-93de-2a92faa7e0dd",
   "metadata": {},
   "outputs": [],
   "source": [
    "r=\"ruyu iuiuu oiuoi u oiu\""
   ]
  },
  {
   "cell_type": "code",
   "execution_count": 67,
   "id": "93f31d7d-edb2-4b3a-be74-714705cebcb9",
   "metadata": {},
   "outputs": [
    {
     "data": {
      "text/plain": [
       "True"
      ]
     },
     "execution_count": 67,
     "metadata": {},
     "output_type": "execute_result"
    }
   ],
   "source": [
    "\"oiuoi\" in r.split()"
   ]
  },
  {
   "cell_type": "code",
   "execution_count": 68,
   "id": "58d8f6e0-b055-4797-93ae-f2577a8fdc98",
   "metadata": {},
   "outputs": [],
   "source": [
    "p1=\"khan\""
   ]
  },
  {
   "cell_type": "code",
   "execution_count": 69,
   "id": "6e96e982-add7-4c48-bca4-45801e51b766",
   "metadata": {},
   "outputs": [],
   "source": [
    "p2=\"rizwan\"\n"
   ]
  },
  {
   "cell_type": "code",
   "execution_count": 75,
   "id": "533c1b4d-3524-4cfc-92b4-3f6fa332b8df",
   "metadata": {},
   "outputs": [],
   "source": [
    "c=p1+\"\"+p2"
   ]
  },
  {
   "cell_type": "code",
   "execution_count": 71,
   "id": "e84646bc-956c-46a1-a48e-f5a8cb574a46",
   "metadata": {},
   "outputs": [
    {
     "data": {
      "text/plain": [
       "'khanrizwan'"
      ]
     },
     "execution_count": 71,
     "metadata": {},
     "output_type": "execute_result"
    }
   ],
   "source": [
    "c"
   ]
  },
  {
   "cell_type": "code",
   "execution_count": 76,
   "id": "8ac6c108-1dad-4225-be30-e80c2d086ef4",
   "metadata": {},
   "outputs": [],
   "source": [
    "\n",
    "string = \"This is a multi-line string.\""
   ]
  },
  {
   "cell_type": "code",
   "execution_count": 77,
   "id": "0d01317d-acd2-4720-b5f5-24c8d9b16d18",
   "metadata": {},
   "outputs": [],
   "source": [
    "e=\"uyiuyiu\""
   ]
  },
  {
   "cell_type": "code",
   "execution_count": 78,
   "id": "af7ace7a-26c8-4179-8053-f91e9d265690",
   "metadata": {},
   "outputs": [
    {
     "data": {
      "text/plain": [
       "'uyiuyiuuyiuyiuuyiuyiu'"
      ]
     },
     "execution_count": 78,
     "metadata": {},
     "output_type": "execute_result"
    }
   ],
   "source": [
    "e*3"
   ]
  },
  {
   "cell_type": "code",
   "execution_count": 81,
   "id": "deedbbc6-af4c-4b61-96a0-fdbfbf0c0664",
   "metadata": {},
   "outputs": [],
   "source": [
    "a = 987987"
   ]
  },
  {
   "cell_type": "code",
   "execution_count": 2,
   "id": "93004b63-e37b-450c-8f02-52da722295a3",
   "metadata": {},
   "outputs": [
    {
     "ename": "NameError",
     "evalue": "name 'a' is not defined",
     "output_type": "error",
     "traceback": [
      "\u001b[0;31m---------------------------------------------------------------------------\u001b[0m",
      "\u001b[0;31mNameError\u001b[0m                                 Traceback (most recent call last)",
      "Cell \u001b[0;32mIn[2], line 1\u001b[0m\n\u001b[0;32m----> 1\u001b[0m \u001b[43ma\u001b[49m\u001b[38;5;241m.\u001b[39mstring\n",
      "\u001b[0;31mNameError\u001b[0m: name 'a' is not defined"
     ]
    }
   ],
   "source": [
    "a.string"
   ]
  },
  {
   "cell_type": "code",
   "execution_count": 3,
   "id": "ed19aaa5-9cfb-4f14-b784-9768cefe28d2",
   "metadata": {},
   "outputs": [],
   "source": [
    "str=\"ujy iuirew iou khan\""
   ]
  },
  {
   "cell_type": "code",
   "execution_count": 6,
   "id": "3a84bdc3-ddb6-479f-9475-c1caffa0e6bf",
   "metadata": {},
   "outputs": [
    {
     "data": {
      "text/plain": [
       "['ujy', 'iuirew', 'iou', 'khan']"
      ]
     },
     "execution_count": 6,
     "metadata": {},
     "output_type": "execute_result"
    }
   ],
   "source": [
    "str.split()"
   ]
  },
  {
   "cell_type": "code",
   "execution_count": 7,
   "id": "230d2672-bc10-4fc5-9c81-8811102444c1",
   "metadata": {},
   "outputs": [],
   "source": [
    "yrw=(8767.87687,98678768,\"utytf\")"
   ]
  },
  {
   "cell_type": "code",
   "execution_count": 8,
   "id": "016363da-b124-41a1-91ca-15545a843acc",
   "metadata": {},
   "outputs": [
    {
     "ename": "AttributeError",
     "evalue": "'list' object has no attribute 'split'",
     "output_type": "error",
     "traceback": [
      "\u001b[0;31m---------------------------------------------------------------------------\u001b[0m",
      "\u001b[0;31mAttributeError\u001b[0m                            Traceback (most recent call last)",
      "Cell \u001b[0;32mIn[8], line 1\u001b[0m\n\u001b[0;32m----> 1\u001b[0m \u001b[43ml1\u001b[49m\u001b[38;5;241;43m.\u001b[39;49m\u001b[43msplit\u001b[49m()\n",
      "\u001b[0;31mAttributeError\u001b[0m: 'list' object has no attribute 'split'"
     ]
    }
   ],
   "source": [
    "yrw.split()"
   ]
  },
  {
   "cell_type": "code",
   "execution_count": null,
   "id": "bd1097d7-d9d0-4415-9fc8-5ab0533cb0d0",
   "metadata": {},
   "outputs": [],
   "source": [
    "a=10\n",
    "while a<=4:\n",
    "    print(a)"
   ]
  },
  {
   "cell_type": "code",
   "execution_count": null,
   "id": "7f09e7d9-605a-42c6-90fc-82d93b43f7da",
   "metadata": {},
   "outputs": [],
   "source": [
    "count = 1\n",
    "while count <= 5:\n",
    "    print(\"Iteration\", count)\n",
    "    count += 1"
   ]
  },
  {
   "cell_type": "code",
   "execution_count": null,
   "id": "98d99856-78bb-4d73-a106-62796deb3977",
   "metadata": {},
   "outputs": [],
   "source": [
    "z=0\n",
    "x=90\n",
    "c=78\n",
    "while z<10:\n",
    "    print(x,c)"
   ]
  }
 ],
 "metadata": {
  "kernelspec": {
   "display_name": "Python 3 (ipykernel)",
   "language": "python",
   "name": "python3"
  },
  "language_info": {
   "codemirror_mode": {
    "name": "ipython",
    "version": 3
   },
   "file_extension": ".py",
   "mimetype": "text/x-python",
   "name": "python",
   "nbconvert_exporter": "python",
   "pygments_lexer": "ipython3",
   "version": "3.10.8"
  }
 },
 "nbformat": 4,
 "nbformat_minor": 5
}
