{
 "cells": [
  {
   "cell_type": "code",
   "execution_count": 16,
   "id": "14376558-f547-4287-907c-665f4235f662",
   "metadata": {},
   "outputs": [
    {
     "name": "stdout",
     "output_type": "stream",
     "text": [
      "1->2->3->4->5->\n",
      "length is : 5\n"
     ]
    }
   ],
   "source": [
    "#Define the ListNode\n",
    "\n",
    "class Node :\n",
    "\n",
    "  def __init__(self,data=None, next=None):\n",
    "    self.data = data\n",
    "    self.next = next\n",
    "\n",
    "  #Method to set the data value\n",
    "  def setData(self,data):\n",
    "    self.data = data\n",
    "\n",
    "  #method to get the data value\n",
    "  def getData(self):\n",
    "    return self.data\n",
    "\n",
    "  #Method of set the next\n",
    "  def setNext(self, next):\n",
    "    self.next = next\n",
    "\n",
    "  #Method to get the next\n",
    "  def getNext(self):\n",
    "    return self.next\n",
    "#Create a linked list -> collection of list nodes\n",
    "\n",
    "head = Node(1)\n",
    "node2 = Node(2)\n",
    "node3 = Node(3)\n",
    "node4 = Node(4)\n",
    "node5 = Node(5)\n",
    "\n",
    "#Creating the linkage\n",
    "head.setNext(node2)\n",
    "node2.setNext(node3)\n",
    "node3.setNext(node4)\n",
    "node4.setNext(node5)\n",
    "\n",
    "\n",
    "def traverse(head):\n",
    "  temp = head\n",
    "  c=0\n",
    "  while(temp):\n",
    "    print(temp.getData(),end=\"->\")\n",
    "    c+=1\n",
    "    temp = temp.getNext() #jump to the next node\n",
    "  print()\n",
    "  print(\"length is :\",c)\n",
    "traverse(head)"
   ]
  },
  {
   "cell_type": "code",
   "execution_count": 28,
   "id": "d17b2da2-d513-4cdf-bb04-1c7030968758",
   "metadata": {},
   "outputs": [
    {
     "name": "stdout",
     "output_type": "stream",
     "text": [
      "10->20->30->40->\n",
      "new node is at 9 and it is start from 0\n"
     ]
    }
   ],
   "source": []
  },
  {
   "cell_type": "code",
   "execution_count": 30,
   "id": "78a98efc-d8de-4955-98fa-da4b7ae7e6da",
   "metadata": {},
   "outputs": [
    {
     "name": "stdout",
     "output_type": "stream",
     "text": [
      "kk\n"
     ]
    }
   ],
   "source": [
    "print(\"kk\")"
   ]
  },
  {
   "cell_type": "code",
   "execution_count": 35,
   "id": "f681b019-bef9-4e60-b758-af5fe0b0abd6",
   "metadata": {},
   "outputs": [
    {
     "name": "stdout",
     "output_type": "stream",
     "text": [
      "10->20->30->90->40->\n",
      "new node is at 3 and it is start from 0\n"
     ]
    }
   ],
   "source": [
    "class linkedlist:\n",
    "    def __init__(self,data,Next=None):\n",
    "        self.data=data\n",
    "        self.Next=Next\n",
    "node1=linkedlist(10)\n",
    "node2=linkedlist(20)\n",
    "node3=linkedlist(30)\n",
    "node4=linkedlist(40)\n",
    "node1.Next=node2\n",
    "node2.Next=node3\n",
    "node3.Next=node4\n",
    "current=node1\n",
    "new_node=linkedlist(90)\n",
    "index=3\n",
    "length=0\n",
    "while(current is not None):  \n",
    "    if(index==length):\n",
    "        print(new_node.data,end =\"->\")\n",
    "    print(current.data,end =\"->\")\n",
    "    current= current.Next\n",
    "    length+=1\n",
    "print()\n",
    "print(f\"new node is at {index} and it is start from 0\")"
   ]
  },
  {
   "cell_type": "code",
   "execution_count": 44,
   "id": "903b25b0-b49a-4a0e-acfa-c7aaadb709c7",
   "metadata": {},
   "outputs": [
    {
     "ename": "SyntaxError",
     "evalue": "invalid syntax (3192786378.py, line 25)",
     "output_type": "error",
     "traceback": [
      "\u001b[0;36m  Cell \u001b[0;32mIn[44], line 25\u001b[0;36m\u001b[0m\n\u001b[0;31m    elif(index!=length\u001b[0m\n\u001b[0m    ^\u001b[0m\n\u001b[0;31mSyntaxError\u001b[0m\u001b[0;31m:\u001b[0m invalid syntax\n"
     ]
    }
   ],
   "source": [
    "class linked_list:\n",
    "    def __init__(self,data,next=None):\n",
    "        self.data=data\n",
    "        self.next=next\n",
    "node1=linked_list(10)\n",
    "node2=linked_list(20)\n",
    "node3=linked_list(30)\n",
    "node4=linked_list(40)# dabba ban gaya\n",
    "node5=linked_list(50)\n",
    "node6=linked_list(60)\n",
    "node1.next=node2\n",
    "node2.next=node3 #lnkage kr diya\n",
    "node3.next=node4\n",
    "node4.next=node5\n",
    "node5.next=node6\n",
    "current =node1\n",
    "length=0\n",
    "index=3\n",
    "Data=909\n",
    "new_node=linked_list(Data)\n",
    "while(current is not None):\n",
    "    if(index==length):\n",
    "        print(new_node.data,end=\"->\")\n",
    "    print(current.data,end=\"->\")\n",
    "    elif(index!=length\n",
    "    index=length+1\n",
    "    print(new_node.data,end=\"->\") \n",
    "    length+=1\n",
    "    current=current.next\n",
    "   "
   ]
  },
  {
   "cell_type": "code",
   "execution_count": null,
   "id": "78d284b6-54da-4471-b91f-18ff5d94498e",
   "metadata": {},
   "outputs": [],
   "source": [
    "class linked_list:\n",
    "    def __init__(self,data,next=None):\n",
    "        self.data=data\n",
    "        self.next=next\n",
    "node1=linked_list(10)\n",
    "node2=linked_list(20)\n",
    "node3=linked_list(30)\n",
    "node4=linked_list(40)# dabba ban gaya\n",
    "node5=linked_list(50)\n",
    "node6=linked_list(60)\n",
    "node1.next=node2\n",
    "node2.next=node3 #lnkage kr diya\n",
    "node3.next=node4\n",
    "node4.next=node5\n",
    "node5.next=node6\n",
    "current =node1\n",
    "length=0\n",
    "index=3\n",
    "while(current is not None):\n",
    "    if(index==length):\n",
    "        k=(current.data)\n",
    "        continue\n",
    "    print(current.data,end=\"->\")\n",
    "    length+=1\n",
    "    current=current.next\n",
    "   "
   ]
  },
  {
   "cell_type": "code",
   "execution_count": null,
   "id": "cbe115c3-2ced-4859-9b28-d8b7e0b55a9a",
   "metadata": {},
   "outputs": [],
   "source": []
  }
 ],
 "metadata": {
  "kernelspec": {
   "display_name": "Python 3 (ipykernel)",
   "language": "python",
   "name": "python3"
  },
  "language_info": {
   "codemirror_mode": {
    "name": "ipython",
    "version": 3
   },
   "file_extension": ".py",
   "mimetype": "text/x-python",
   "name": "python",
   "nbconvert_exporter": "python",
   "pygments_lexer": "ipython3",
   "version": "3.10.8"
  }
 },
 "nbformat": 4,
 "nbformat_minor": 5
}
