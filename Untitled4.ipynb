{
 "cells": [
  {
   "cell_type": "code",
   "execution_count": 1,
   "id": "15103168-3436-49b0-a551-02d0e078109f",
   "metadata": {},
   "outputs": [],
   "source": [
    "a=87987"
   ]
  },
  {
   "cell_type": "code",
   "execution_count": 3,
   "id": "9d69b90d-6c59-4ad5-a113-e1f4b63f073d",
   "metadata": {},
   "outputs": [],
   "source": [
    "a1=\"time is ovewr\""
   ]
  },
  {
   "cell_type": "code",
   "execution_count": 7,
   "id": "6df6ecef-2ae9-43bf-8da6-05c88d59d6f1",
   "metadata": {},
   "outputs": [
    {
     "data": {
      "text/plain": [
       "'time is ovewrtime is ovewr'"
      ]
     },
     "execution_count": 7,
     "metadata": {},
     "output_type": "execute_result"
    }
   ],
   "source": [
    "a+a"
   ]
  },
  {
   "cell_type": "code",
   "execution_count": null,
   "id": "f3162cce-dfc7-403d-9264-729e70805627",
   "metadata": {},
   "outputs": [],
   "source": []
  },
  {
   "cell_type": "code",
   "execution_count": null,
   "id": "e50ba655-ca64-4dbd-9582-99b2172845d9",
   "metadata": {},
   "outputs": [],
   "source": []
  }
 ],
 "metadata": {
  "kernelspec": {
   "display_name": "Python 3 (ipykernel)",
   "language": "python",
   "name": "python3"
  },
  "language_info": {
   "codemirror_mode": {
    "name": "ipython",
    "version": 3
   },
   "file_extension": ".py",
   "mimetype": "text/x-python",
   "name": "python",
   "nbconvert_exporter": "python",
   "pygments_lexer": "ipython3",
   "version": "3.10.8"
  }
 },
 "nbformat": 4,
 "nbformat_minor": 5
}
