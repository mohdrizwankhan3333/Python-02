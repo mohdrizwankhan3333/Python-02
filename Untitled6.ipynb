{
 "cells": [
  {
   "cell_type": "code",
   "execution_count": 7,
   "id": "27a4ce7b-4307-4183-bf6c-693593becd6e",
   "metadata": {},
   "outputs": [
    {
     "name": "stdout",
     "output_type": "stream",
     "text": [
      "1 ==>> 2 ==>> 3 ==>> 4 ==>> \n",
      "linked list is finished\n",
      "length is : 4\n"
     ]
    }
   ],
   "source": [
    "class linkedlist:\n",
    "    def __init__(self,data,next=None):\n",
    "        self.data=data\n",
    "        self.next=next\n",
    "node1=linkedlist(1) #dabba ban gaya hai yaha \n",
    "node2=linkedlist(2)\n",
    "node3=linkedlist(3)\n",
    "node4=linkedlist(4)\n",
    "node1.next=node2 # yahan dabbon ko jod diya hai\n",
    "node2.next=node3\n",
    "node3.next=node4\n",
    "#node4.next=node4\n",
    "current=node1\n",
    "length=0\n",
    "while(current is not None): # yahan khali kara hai\n",
    "    print(current.data,end=\" ==>> \")\n",
    "    current=current.next\n",
    "    length+=1\n",
    "print()\n",
    "print(\"linked list is finished\")\n",
    "print(f\"length is : {length}\")"
   ]
  },
  {
   "cell_type": "code",
   "execution_count": 13,
   "id": "74a79c36-fe5a-42ce-994c-8f68ed75f3d0",
   "metadata": {},
   "outputs": [
    {
     "name": "stdout",
     "output_type": "stream",
     "text": [
      "1 <<-->> 2 <<-->> 3 <<-->> 4 <<-->> 5 <<-->> 6 <<-->> 7 <<-->> 8 <<-->> 9 <<-->> 10 <<-->> \n",
      "length is :  10\n",
      "linked list is finished\n"
     ]
    }
   ],
   "source": [
    "class linked:\n",
    "    def __init__(self,data,next=None):\n",
    "        self.data=data\n",
    "        self.next=next\n",
    "node1=linked(1)\n",
    "node2=linked(2)\n",
    "node3=linked(3)\n",
    "node4=linked(4) #dabba bana diya hai\n",
    "node5=linked(5)\n",
    "node6=linked(6)\n",
    "node7=linked(7)\n",
    "node8=linked(8)\n",
    "node9=linked(9)\n",
    "node10=linked(10)\n",
    "node1.next=node2\n",
    "node2.next=node3\n",
    "node3.next=node4\n",
    "node4.next=node5\n",
    "node5.next=node6\n",
    "node6.next=node7# linkage kr diy gayi hai\n",
    "node7.next=node8\n",
    "node8.next=node9\n",
    "node9.next=node10\n",
    "current=node1\n",
    "length=0\n",
    "while(current is not None):\n",
    "    print(current.data,end=\" <<-->> \")  #yahan khali kra diya \n",
    "    current =current.next\n",
    "    length+=1\n",
    "print()\n",
    "print(\"length is : \",length)\n",
    "print(\"linked list is finished\")"
   ]
  },
  {
   "cell_type": "code",
   "execution_count": null,
   "id": "acd890f6-073b-45e2-91db-572056cdd389",
   "metadata": {},
   "outputs": [],
   "source": []
  }
 ],
 "metadata": {
  "kernelspec": {
   "display_name": "Python 3 (ipykernel)",
   "language": "python",
   "name": "python3"
  },
  "language_info": {
   "codemirror_mode": {
    "name": "ipython",
    "version": 3
   },
   "file_extension": ".py",
   "mimetype": "text/x-python",
   "name": "python",
   "nbconvert_exporter": "python",
   "pygments_lexer": "ipython3",
   "version": "3.10.8"
  }
 },
 "nbformat": 4,
 "nbformat_minor": 5
}
