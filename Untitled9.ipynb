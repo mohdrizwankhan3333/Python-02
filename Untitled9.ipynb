{
 "cells": [
  {
   "cell_type": "code",
   "execution_count": null,
   "id": "c25cdf69-59c5-479c-a68b-01bb699adaf0",
   "metadata": {},
   "outputs": [],
   "source": [
    "#for loop assigment"
   ]
  },
  {
   "cell_type": "code",
   "execution_count": 2,
   "id": "02c17b07-26a4-43b4-978f-d7f146ea7ac6",
   "metadata": {},
   "outputs": [
    {
     "name": "stdout",
     "output_type": "stream",
     "text": [
      "1,2,3,4,5,6,7,8,9,10,"
     ]
    }
   ],
   "source": [
    "#1. Write a Python program to print the numbers from 1 to 10 using a `for` loop.#\n",
    "for i in range (1,10+1):\n",
    "    print(i,end=\",\")"
   ]
  },
  {
   "cell_type": "code",
   "execution_count": 21,
   "id": "16bb8628-ebbf-4678-88cd-6c69c62d0e08",
   "metadata": {},
   "outputs": [
    {
     "name": "stdout",
     "output_type": "stream",
     "text": [
      "The sum of the numbers in the list is: 15\n"
     ]
    }
   ],
   "source": [
    "#2. Create a program that calculates the sum of all numbers in a list using a `for` loop.\n",
    "nlist = [1, 2, 3, 4, 5]\n",
    "sum = 0\n",
    "for number in nlist:\n",
    "    sum += number\n",
    "print(f\"The sum of the numbers in the list is: {sum}\")"
   ]
  },
  {
   "cell_type": "code",
   "execution_count": 28,
   "id": "ed225540-50e2-49d0-a3d9-215f9b691176",
   "metadata": {},
   "outputs": [
    {
     "name": "stdout",
     "output_type": "stream",
     "text": [
      "['khan', 'rizwan', 'am', 'i']\n"
     ]
    }
   ],
   "source": [
    "s=\"i am rizwan khan\"\n",
    "l=s.split()\n",
    "print(l[::-1])"
   ]
  },
  {
   "cell_type": "code",
   "execution_count": 43,
   "id": "0e8f44cb-aede-4228-bb9b-6a04bef096b7",
   "metadata": {},
   "outputs": [
    {
     "name": "stdin",
     "output_type": "stream",
     "text": [
      "enter number 5\n"
     ]
    },
    {
     "name": "stdout",
     "output_type": "stream",
     "text": [
      "120\n"
     ]
    }
   ],
   "source": [
    "num=int(input(\"enter number\"))\n",
    "f=1\n",
    "for i in range (1,num+1):\n",
    "    f*=i\n",
    "print(f)"
   ]
  },
  {
   "cell_type": "code",
   "execution_count": 50,
   "id": "dce032dd-ddc7-48d6-81f3-72217fb92b64",
   "metadata": {},
   "outputs": [
    {
     "name": "stdin",
     "output_type": "stream",
     "text": [
      "enter number 3\n"
     ]
    },
    {
     "name": "stdout",
     "output_type": "stream",
     "text": [
      "Table of given number is here\n",
      "3 x 1 = 3\n",
      "3 x 2 = 6\n",
      "3 x 3 = 9\n",
      "3 x 4 = 12\n",
      "3 x 5 = 15\n",
      "3 x 6 = 18\n",
      "3 x 7 = 21\n",
      "3 x 8 = 24\n",
      "3 x 9 = 27\n",
      "3 x 10 = 30\n"
     ]
    }
   ],
   "source": [
    "num=int(input(\"enter number\"))\n",
    "print(\"Table of given number is here\")\n",
    "for i in range(1,10+1):\n",
    "    k=num*i\n",
    "    print(num,'x',i,'=',k)"
   ]
  },
  {
   "cell_type": "code",
   "execution_count": 56,
   "id": "4b348258-fc25-4bd1-87fd-f1e9c367ceda",
   "metadata": {},
   "outputs": [
    {
     "name": "stdout",
     "output_type": "stream",
     "text": [
      "5 3\n"
     ]
    }
   ],
   "source": [
    "l=[1,2,34,3,5,6,7,89]\n",
    "e_count=0\n",
    "o_count=0\n",
    "for k in l:\n",
    "    if(k%2==0):\n",
    "        e_count+=1\n",
    "    else:\n",
    "        o_count+=1\n",
    "print(o_count,e_count)"
   ]
  },
  {
   "cell_type": "code",
   "execution_count": 77,
   "id": "2058b4a1-a137-4c69-9d22-d75343cc5572",
   "metadata": {},
   "outputs": [
    {
     "name": "stdout",
     "output_type": "stream",
     "text": [
      "square of 1 ->   1 x 1 = 1\n",
      "square of 2 ->   2 x 2 = 4\n",
      "square of 3 ->   3 x 3 = 9\n",
      "square of 4 ->   4 x 4 = 16\n",
      "square of 5 ->   5 x 5 = 25\n"
     ]
    }
   ],
   "source": [
    "for i in range(1,5+1):\n",
    "    print(\"square of\",i,end=\"\")\n",
    "    print(' ->  ',i,'x',i,'=',i*i)"
   ]
  },
  {
   "cell_type": "code",
   "execution_count": 89,
   "id": "56ede2d9-62c9-4d84-b1da-cfe5aa092500",
   "metadata": {},
   "outputs": [
    {
     "name": "stdout",
     "output_type": "stream",
     "text": [
      "11\n"
     ]
    }
   ],
   "source": [
    "l=\"uyiuyruuyiu\"\n",
    "c=0\n",
    "for i in  l: \n",
    "    c+=1\n",
    "print(c)"
   ]
  },
  {
   "cell_type": "code",
   "execution_count": 92,
   "id": "3dd27b2e-9456-4168-a1fa-f26511ca8682",
   "metadata": {},
   "outputs": [
    {
     "name": "stdout",
     "output_type": "stream",
     "text": [
      "18.0\n"
     ]
    }
   ],
   "source": [
    "l=[1,2,3,4,5,6,7,8]\n",
    "s=0\n",
    "for i in l:\n",
    "    s+=i/2\n",
    "print(s)"
   ]
  },
  {
   "cell_type": "code",
   "execution_count": 96,
   "id": "8857e72d-c065-41d6-b7c9-b6e048fd58ab",
   "metadata": {},
   "outputs": [
    {
     "name": "stdin",
     "output_type": "stream",
     "text": [
      "enter number 5\n"
     ]
    },
    {
     "name": "stdout",
     "output_type": "stream",
     "text": [
      "15\n"
     ]
    }
   ],
   "source": [
    "n=int(input(\"enter number\"))\n",
    "s=0\n",
    "for i in range(1,n+1,1):\n",
    "    s+=i\n",
    "print(s)"
   ]
  },
  {
   "cell_type": "code",
   "execution_count": 2,
   "id": "aeb223a4-aa3c-411d-b9cd-4ca1bf811ffe",
   "metadata": {},
   "outputs": [
    {
     "name": "stdout",
     "output_type": "stream",
     "text": [
      "duplicate \n"
     ]
    }
   ],
   "source": [
    "lis=[1,2,4,5,6,6]\n",
    "duplicate=False\n",
    "for i in range (len(lis)):\n",
    "    for j in range(i+1,len(lis)):\n",
    "        if lis[i]==lis[j]:\n",
    "            duplicate=True\n",
    "            break\n",
    "if duplicate:\n",
    "    print(\"duplicate \")\n",
    "else:\n",
    "    print(\"not duplicate\")\n"
   ]
  },
  {
   "cell_type": "code",
   "execution_count": null,
   "id": "7cd7a5ff-d075-4cba-9c0c-5e8c698235d6",
   "metadata": {},
   "outputs": [
    {
     "name": "stdout",
     "output_type": "stream",
     "text": [
      "Prime numbers between 0 and 90: 2 3 5 7 11 13 17 19 23 29 31 37 41 43 47 53 59 61 67 71 73 79 83 89 "
     ]
    }
   ],
   "source": [
    "def is_prime(number):\n",
    "    if number < 2:\n",
    "        return False\n",
    "    for i in range(2, int(number**0.5) + 1):\n",
    "        if number % i == 0:\n",
    "            return False\n",
    "    return True\n",
    "\n",
    "def print_primes_in_range(start, end):\n",
    "    print(f\"Prime numbers between {start} and {end}:\")\n",
    "    for num in range(start, end + 1):\n",
    "        if is_prime(num):\n",
    "            print(num,\",\",end='),\n",
    "\n",
    "# Example: Print prime numbers between 10 and 50\n",
    "print_primes_in_range(10, 50)\n",
    "\n",
    "    "
   ]
  },
  {
   "cell_type": "code",
   "execution_count": 7,
   "id": "6d20df77-d2f7-4f82-8666-bbef5f92f066",
   "metadata": {},
   "outputs": [
    {
     "name": "stdin",
     "output_type": "stream",
     "text": [
      "enter string : rizwankhan\n"
     ]
    },
    {
     "name": "stdout",
     "output_type": "stream",
     "text": [
      "3\n"
     ]
    }
   ],
   "source": [
    "sstr=input(\"enter string :\")\n",
    "c=0\n",
    "for i in sstr:\n",
    "     if i in 'iouaeAEIOU':    \n",
    "            c+=1\n",
    "print(c)"
   ]
  },
  {
   "cell_type": "code",
   "execution_count": 9,
   "id": "b19ea32f-73b9-4d30-9e56-66479f1dd5f8",
   "metadata": {},
   "outputs": [
    {
     "name": "stdout",
     "output_type": "stream",
     "text": [
      "56\n"
     ]
    }
   ],
   "source": [
    " def maxl(lis):\n",
    "        maxk=lis[0][0]\n",
    "        for i in lis:\n",
    "            for num in i:\n",
    "                if maxk<num:\n",
    "                    maxk=num\n",
    "        return maxk\n",
    "print(maxl([[1,2,3,4],[56,6,5]]))"
   ]
  },
  {
   "cell_type": "code",
   "execution_count": 7,
   "id": "3cf1fe72-26e5-4b7d-93a5-5832d51691ba",
   "metadata": {},
   "outputs": [
    {
     "name": "stdout",
     "output_type": "stream",
     "text": [
      "8\n"
     ]
    }
   ],
   "source": [
    "#14. Write a program to find the maximum element in a 2D list using a nested `for` loop.\n",
    "l=[[1,2,3,4,],[5,4,3,2,7,8]]\n",
    "maxe=float('-inf')\n",
    "for i in l:\n",
    "    for j in i:\n",
    "        if (j>maxe):\n",
    "            maxe=j            \n",
    "print(maxe)"
   ]
  },
  {
   "cell_type": "code",
   "execution_count": 16,
   "id": "aceba67b-44d5-487b-a0db-dda8466fb91c",
   "metadata": {},
   "outputs": [
    {
     "name": "stdout",
     "output_type": "stream",
     "text": [
      "Original List: [1, 2, 3, 4, 2, 5, 2, 6]\n",
      "Modified List: [1, 3, 4, 5, 6]\n"
     ]
    }
   ],
   "source": [
    "#15. Create a program that removes all occurrences of a specific element from a list using a `for` loop.\n",
    "def remove_element(lst, element_to_remove):\n",
    "    new_list = [x for x in lst if x != element_to_remove]\n",
    "    return new_list\n",
    "original_list = [1, 2, 3, 4, 2, 5, 2, 6]\n",
    "element_to_remove = 2\n",
    "modified_list = remove_element(original_list, element_to_remove)\n",
    "print(\"Original List:\", original_list)\n",
    "print(\"Modified List:\", modified_list)"
   ]
  },
  {
   "cell_type": "code",
   "execution_count": 17,
   "id": "32e8a1bf-0151-404a-9972-709c8598f38e",
   "metadata": {},
   "outputs": [
    {
     "name": "stdout",
     "output_type": "stream",
     "text": [
      "1 x 1 = 1\n",
      "1 x 2 = 2\n",
      "1 x 3 = 3\n",
      "1 x 4 = 4\n",
      "1 x 5 = 5\n",
      "1 x 6 = 6\n",
      "1 x 7 = 7\n",
      "1 x 8 = 8\n",
      "1 x 9 = 9\n",
      "1 x 10 = 10\n",
      "\n",
      "2 x 1 = 2\n",
      "2 x 2 = 4\n",
      "2 x 3 = 6\n",
      "2 x 4 = 8\n",
      "2 x 5 = 10\n",
      "2 x 6 = 12\n",
      "2 x 7 = 14\n",
      "2 x 8 = 16\n",
      "2 x 9 = 18\n",
      "2 x 10 = 20\n",
      "\n",
      "3 x 1 = 3\n",
      "3 x 2 = 6\n",
      "3 x 3 = 9\n",
      "3 x 4 = 12\n",
      "3 x 5 = 15\n",
      "3 x 6 = 18\n",
      "3 x 7 = 21\n",
      "3 x 8 = 24\n",
      "3 x 9 = 27\n",
      "3 x 10 = 30\n",
      "\n",
      "4 x 1 = 4\n",
      "4 x 2 = 8\n",
      "4 x 3 = 12\n",
      "4 x 4 = 16\n",
      "4 x 5 = 20\n",
      "4 x 6 = 24\n",
      "4 x 7 = 28\n",
      "4 x 8 = 32\n",
      "4 x 9 = 36\n",
      "4 x 10 = 40\n",
      "\n",
      "5 x 1 = 5\n",
      "5 x 2 = 10\n",
      "5 x 3 = 15\n",
      "5 x 4 = 20\n",
      "5 x 5 = 25\n",
      "5 x 6 = 30\n",
      "5 x 7 = 35\n",
      "5 x 8 = 40\n",
      "5 x 9 = 45\n",
      "5 x 10 = 50\n",
      "\n"
     ]
    }
   ],
   "source": [
    "#16. Develop a program that generates a multiplication table for numbers from 1 to 5 using a nested `for` loop.\n",
    "for i in range(1, 6):  \n",
    "    for j in range(1, 11): \n",
    "        result = i * j\n",
    "        print(f\"{i} x {j} = {result}\")\n",
    "    print()"
   ]
  },
  {
   "cell_type": "code",
   "execution_count": 18,
   "id": "642e3d6d-a20a-4fde-9a4c-2a9e4e1b5da3",
   "metadata": {},
   "outputs": [
    {
     "name": "stdout",
     "output_type": "stream",
     "text": [
      "32°F is 0.00°C\n",
      "68°F is 20.00°C\n",
      "95°F is 35.00°C\n",
      "104°F is 40.00°C\n",
      "212°F is 100.00°C\n"
     ]
    }
   ],
   "source": [
    "#17. Write a program that converts a list of Fahrenheit temperatures to Celsius using a `for` loop.\n",
    "def fahrenheit_to_celsius(fahrenheit):\n",
    "    return (fahrenheit - 32) * 5/9\n",
    "fahrenheit_temperatures = [32, 68, 95, 104, 212]\n",
    "celsius_temperatures = []\n",
    "for temp in fahrenheit_temperatures:\n",
    "    celsius_temp = fahrenheit_to_celsius(temp)\n",
    "    celsius_temperatures.append(celsius_temp)\n",
    "for i in range(len(fahrenheit_temperatures)):\n",
    "    print(f\"{fahrenheit_temperatures[i]}°F is {celsius_temperatures[i]:.2f}°C\")"
   ]
  },
  {
   "cell_type": "code",
   "execution_count": 24,
   "id": "4c48c27c-7571-4b04-b4f4-211f2c2a8630",
   "metadata": {},
   "outputs": [
    {
     "name": "stdout",
     "output_type": "stream",
     "text": [
      "[1, 2, 4, 5, 6, 7, 90]\n"
     ]
    }
   ],
   "source": [
    "#18. Create a program to print the common elements from two lists using a `for` loop.\n",
    "def com(l1,l2):\n",
    "    return [x for x in l1 and l2 if x in l1 and l2]\n",
    "l1=[1,2,3,4,5,6,7,90,87,54]\n",
    "l2=[1,2,4,5,6,7,8,9,90,12]\n",
    "print(com(l1,l2))"
   ]
  },
  {
   "cell_type": "code",
   "execution_count": 32,
   "id": "7db5e492-a76b-4acc-a1b8-f7302510a2aa",
   "metadata": {},
   "outputs": [
    {
     "name": "stdout",
     "output_type": "stream",
     "text": [
      "\n",
      "* \n",
      "* * \n",
      "* * * \n",
      "* * * * \n",
      "* * * * * \n",
      "* * * * * * \n",
      "* * * * * * * \n",
      "* * * * * * * * \n",
      "* * * * * * * * * \n"
     ]
    }
   ],
   "source": [
    "#19. Develop a program that prints the pattern of right-angled triangles using a `for` loop. Use ‘*’ to draw the pattern\n",
    "for i in range(10):\n",
    "    for j in range(0,i,1):\n",
    "        print(\"*\",end=\" \")\n",
    "    print()"
   ]
  },
  {
   "cell_type": "code",
   "execution_count": 33,
   "id": "73791600-86ec-496f-95d6-cca855b8d93a",
   "metadata": {},
   "outputs": [
    {
     "name": "stdout",
     "output_type": "stream",
     "text": [
      "The GCD of 48 and 18 is: 6\n"
     ]
    }
   ],
   "source": [
    "#20. Write a program to find the greatest common divisor (GCD) of two numbers using a `for` loop.\n",
    "def find_gcd(a, b):\n",
    "    smaller = min(a, b)\n",
    "    gcd = 1\n",
    "    for i in range(2, smaller + 1):\n",
    "        if a % i == 0 and b % i == 0:\n",
    "            gcd = i  \n",
    "    return gcd\n",
    "num1 = 48\n",
    "num2 = 18\n",
    "result_gcd = find_gcd(num1, num2)\n",
    "print(f\"The GCD of {num1} and {num2} is: {result_gcd}\")"
   ]
  },
  {
   "cell_type": "code",
   "execution_count": 34,
   "id": "765780de-def2-4fd2-8c3c-36915487a275",
   "metadata": {},
   "outputs": [
    {
     "name": "stdout",
     "output_type": "stream",
     "text": [
      "155\n"
     ]
    }
   ],
   "source": [
    "# Advanced Level:\n",
    "#21. Create a program that calculates the sum of the digits of numbers in a list using a list comprehension.\n",
    "l=[1,2,3,4,5,56,6,78]\n",
    "print(sum(l))"
   ]
  },
  {
   "cell_type": "code",
   "execution_count": 36,
   "id": "ef9445b3-98b4-4f6b-a0be-728a48a0d9f1",
   "metadata": {},
   "outputs": [
    {
     "name": "stdout",
     "output_type": "stream",
     "text": [
      "The prime factors of 100 are: [2, 5]\n"
     ]
    }
   ],
   "source": [
    "#22. Write a program to find the prime factors of a given number using a `for` loop and list comprehension.\n",
    "def prime_factors(n):\n",
    "    factors = [i for i in range(2, n+1) if n % i == 0]\n",
    "    prime_factors = [i for i in factors if all(i % j != 0 for j in range(2, int(i**0.5) + 1))]\n",
    "    return prime_factors\n",
    "number = 100\n",
    "print(f\"The prime factors of {number} are: {prime_factors(number)}\")"
   ]
  },
  {
   "cell_type": "code",
   "execution_count": 37,
   "id": "eb77f0a3-d1e8-4177-b3b8-64456722f14b",
   "metadata": {},
   "outputs": [
    {
     "name": "stdout",
     "output_type": "stream",
     "text": [
      "Original List: [1, 2, 3, 2, 4, 5, 6, 4, 7, 8, 9, 1]\n",
      "Unique Elements: [1, 2, 3, 4, 5, 6, 7, 8, 9]\n"
     ]
    }
   ],
   "source": [
    "#23. Develop a program that extracts unique elements from a list and stores them in a new list using a list comprehension.\n",
    "def extract_unique_elements(input_list):\n",
    "    return list(set(input_list))\n",
    "original_list = [1, 2, 3, 2, 4, 5, 6, 4, 7, 8, 9, 1]\n",
    "unique_elements = extract_unique_elements(original_list)\n",
    "print(\"Original List:\", original_list)\n",
    "print(\"Unique Elements:\", unique_elements)"
   ]
  },
  {
   "cell_type": "code",
   "execution_count": 40,
   "id": "73a71c89-e0fe-4067-8249-7a986bad378d",
   "metadata": {},
   "outputs": [
    {
     "name": "stdout",
     "output_type": "stream",
     "text": [
      "The palindromic numbers up to 29 are: [0, 1, 2, 3, 4, 5, 6, 7, 8, 9, 11, 22]\n"
     ]
    }
   ],
   "source": [
    "#24. Create a program that generates a list of all palindromic numbers up to a specified limit using a list comprehension.\n",
    "def palindromic_numbers(limit):\n",
    "    return [i for i in range(limit) if str(i) == str(i)[::-1]]\n",
    "limit = 29\n",
    "print(f\"The palindromic numbers up to {limit} are: {palindromic_numbers(limit)}\")"
   ]
  },
  {
   "cell_type": "code",
   "execution_count": 41,
   "id": "768357d5-d566-453e-867f-d3f54bf2bebd",
   "metadata": {},
   "outputs": [
    {
     "name": "stdout",
     "output_type": "stream",
     "text": [
      "Original Nested List: [1, [2, 3, [4, 5]], 6, [7, 8, [9, 10]]]\n",
      "Flattened List: [1, 2, 3, [4, 5], 6, 7, 8, [9, 10]]\n"
     ]
    }
   ],
   "source": [
    "#25. Write a program to flatten a nested list using list comprehension.\n",
    "def flatten_nested_list(nested_list):\n",
    "    return [item for sublist in nested_list for item in (sublist if isinstance(sublist, list) else [sublist])]\n",
    "nested_list = [1, [2, 3, [4, 5]], 6, [7, 8, [9, 10]]]\n",
    "flattened_list = flatten_nested_list(nested_list)\n",
    "print(\"Original Nested List:\", nested_list)\n",
    "print(\"Flattened List:\", flattened_list)"
   ]
  },
  {
   "cell_type": "code",
   "execution_count": null,
   "id": "a8281431-6d3b-4ea9-9a32-94058617c81f",
   "metadata": {},
   "outputs": [],
   "source": [
    "#26. Develop a program that computes the sum of even and odd numbers in a list separately using list comprehension.\n",
    "l=[1,2,3,4,5,6,,7,34,8,9,54,0]\n",
    "for i in l:\n",
    "    if i%2==0"
   ]
  }
 ],
 "metadata": {
  "kernelspec": {
   "display_name": "Python 3 (ipykernel)",
   "language": "python",
   "name": "python3"
  },
  "language_info": {
   "codemirror_mode": {
    "name": "ipython",
    "version": 3
   },
   "file_extension": ".py",
   "mimetype": "text/x-python",
   "name": "python",
   "nbconvert_exporter": "python",
   "pygments_lexer": "ipython3",
   "version": "3.10.8"
  }
 },
 "nbformat": 4,
 "nbformat_minor": 5
}
